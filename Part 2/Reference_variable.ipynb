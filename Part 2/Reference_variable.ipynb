{
 "cells": [
  {
   "cell_type": "markdown",
   "metadata": {},
   "source": [
    "Reference variable:\n",
    "\n",
    "create a object -> Atm()"
   ]
  },
  {
   "cell_type": "markdown",
   "metadata": {},
   "source": [
    "Atm object is created at any random address like 66AA76.\n",
    "But we can't access that as there is no variable.\n",
    "\n",
    "So, we need a variable to store the object that points to the address of the object.\n",
    "\n",
    "sbi = Atm()\n",
    "Here, sbi is a reference variable."
   ]
  },
  {
   "cell_type": "code",
   "execution_count": 1,
   "metadata": {},
   "outputs": [
    {
     "name": "stdout",
     "output_type": "stream",
     "text": [
      "<__main__.Customer object at 0x000001D700398F10>\n"
     ]
    }
   ],
   "source": [
    "class Customer:\n",
    "\n",
    "    def __init__(self, name, gender):\n",
    "        self.name = name\n",
    "        self.gender = gender\n",
    "\n",
    "def greet(customer):\n",
    "    if customer.gender == \"Male\":\n",
    "\n",
    "        print(\"Hello\", customer.name, \"sir\")\n",
    "    else:\n",
    "        print(\"Hello\", customer.name, \"ma'am\")\n",
    "\n",
    "def check_address(customer):\n",
    "    print(id(customer))\n",
    "    \n",
    "customer1 = Customer('Shochcho','Male')\n",
    "print(customer1)"
   ]
  },
  {
   "cell_type": "code",
   "execution_count": 2,
   "metadata": {},
   "outputs": [
    {
     "data": {
      "text/plain": [
       "'Shochcho'"
      ]
     },
     "execution_count": 2,
     "metadata": {},
     "output_type": "execute_result"
    }
   ],
   "source": [
    "customer1.name"
   ]
  },
  {
   "cell_type": "code",
   "execution_count": 3,
   "metadata": {},
   "outputs": [
    {
     "name": "stdout",
     "output_type": "stream",
     "text": [
      "2022933368592\n"
     ]
    }
   ],
   "source": [
    "print(id(customer1))"
   ]
  },
  {
   "cell_type": "code",
   "execution_count": 4,
   "metadata": {},
   "outputs": [
    {
     "name": "stdout",
     "output_type": "stream",
     "text": [
      "2022933368592\n"
     ]
    }
   ],
   "source": [
    "check_address(customer1)"
   ]
  },
  {
   "cell_type": "code",
   "execution_count": 5,
   "metadata": {},
   "outputs": [
    {
     "name": "stdout",
     "output_type": "stream",
     "text": [
      "Hello Shochcho sir\n"
     ]
    }
   ],
   "source": [
    "greet(customer1)"
   ]
  },
  {
   "cell_type": "markdown",
   "metadata": {},
   "source": [
    "When we create any object of classes. They become mutable like dictionary and sets.\n",
    "As the address remains same even after changing the datas of the object."
   ]
  },
  {
   "cell_type": "code",
   "execution_count": null,
   "metadata": {},
   "outputs": [],
   "source": [
    "def change(L):\n",
    "    print(id(L))\n",
    "    L.append(5)\n",
    "    print(id(L))\n",
    "\n",
    "L1 = [1,2,3,4]\n",
    "print(id(L1))\n",
    "print(L1)\n",
    "\n",
    "change(L1)\n",
    "\n",
    "print(L1)"
   ]
  }
 ],
 "metadata": {
  "kernelspec": {
   "display_name": "Python 3",
   "language": "python",
   "name": "python3"
  },
  "language_info": {
   "codemirror_mode": {
    "name": "ipython",
    "version": 3
   },
   "file_extension": ".py",
   "mimetype": "text/x-python",
   "name": "python",
   "nbconvert_exporter": "python",
   "pygments_lexer": "ipython3",
   "version": "3.11.5"
  }
 },
 "nbformat": 4,
 "nbformat_minor": 2
}

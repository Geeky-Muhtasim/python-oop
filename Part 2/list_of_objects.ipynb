{
 "cells": [
  {
   "cell_type": "code",
   "execution_count": 2,
   "metadata": {},
   "outputs": [
    {
     "name": "stdout",
     "output_type": "stream",
     "text": [
      "<__main__.Customer object at 0x0000020010345250>\n",
      "<__main__.Customer object at 0x00000200103442D0>\n",
      "<__main__.Customer object at 0x0000020010345510>\n"
     ]
    }
   ],
   "source": [
    "class Customer:\n",
    "    def __init__(self,name,age):\n",
    "        self.name = name\n",
    "        self.age = age\n",
    "    \n",
    "    def intro(self):\n",
    "        print(\"It's \",self.name, \" Age: \",self.age)\n",
    "\n",
    "c1 = Customer('Shochcho',24)\n",
    "c2 = Customer('Bicchu',22)\n",
    "c3 = Customer('Khashin',23)\n",
    "\n",
    "\n",
    "L = [c1,c2,c3]\n",
    "\n",
    "for i in L:\n",
    "    print(i)"
   ]
  },
  {
   "cell_type": "code",
   "execution_count": 3,
   "metadata": {},
   "outputs": [],
   "source": [
    "for i in L:\n",
    "    i.intro()"
   ]
  }
 ],
 "metadata": {
  "kernelspec": {
   "display_name": "Python 3",
   "language": "python",
   "name": "python3"
  },
  "language_info": {
   "codemirror_mode": {
    "name": "ipython",
    "version": 3
   },
   "file_extension": ".py",
   "mimetype": "text/x-python",
   "name": "python",
   "nbconvert_exporter": "python",
   "pygments_lexer": "ipython3",
   "version": "3.11.5"
  }
 },
 "nbformat": 4,
 "nbformat_minor": 2
}
